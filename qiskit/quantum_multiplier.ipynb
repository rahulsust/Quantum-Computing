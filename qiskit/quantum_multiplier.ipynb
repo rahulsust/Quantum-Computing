{
 "cells": [
  {
   "cell_type": "markdown",
   "id": "7afc4d9f",
   "metadata": {},
   "source": [
    "Create a Quantum Multiplier that takes two integers of unit digits as input and outputs their product."
   ]
  },
  {
   "cell_type": "code",
   "execution_count": 4,
   "id": "16c226c5",
   "metadata": {},
   "outputs": [],
   "source": [
    "# Rahul Dev Sharma\n",
    "# 28 May 2023\n",
    "\n",
    "from qiskit import QuantumCircuit, Aer, execute, QuantumRegister, ClassicalRegister\n",
    "from qiskit.visualization import plot_histogram\n",
    "from qiskit.quantum_info import Statevector"
   ]
  },
  {
   "cell_type": "code",
   "execution_count": 5,
   "id": "b2856dcc",
   "metadata": {},
   "outputs": [],
   "source": [
    "def multiplier(a,b):\n",
    "    \"\"\"This multiplier can handle integers upto 15\"\"\"\n",
    "    a = bin(a)[2:]\n",
    "    b = bin(b)[2:]\n",
    "    size = 4\n",
    "    a = a.zfill(size)\n",
    "    b = b.zfill(size)\n",
    "    q1 = QuantumRegister(size = size, name = \"a\")\n",
    "    q2 = QuantumRegister(size = size, name = \"b\")\n",
    "    qaux = QuantumRegister(size*2, name = \"aux\")\n",
    "    cr = ClassicalRegister(size*2)\n",
    "    qc = QuantumCircuit(q1, q2, qaux, cr)\n",
    "    for i in range(size):\n",
    "        if a[size-i-1] == '1':\n",
    "            qc.x(i)\n",
    "    for i in range(size):\n",
    "        if b[size-i-1] == '1':\n",
    "            qc.x(i + size)\n",
    "\n",
    "    qc.ccx(q1[0],q2[0],qaux[0])\n",
    "\n",
    "    qc.mct([q1[1],q2[0],qaux[1]],qaux[2])\n",
    "    qc.ccx(q1[1],q2[0],qaux[1])\n",
    "    qc.mct([q1[0],q2[1],qaux[1]],qaux[2])\n",
    "    qc.ccx(q1[0],q2[1],qaux[1])\n",
    "\n",
    "    qc.mct([q1[2],q2[0],qaux[2]],qaux[3])\n",
    "    qc.ccx(q1[2],q2[0],qaux[2])\n",
    "    #qc.mct([q1[1],q2[1],qaux[2],qaux[3]],qaux[4])\n",
    "    qc.mct([q1[1],q2[1],qaux[2]],qaux[3])\n",
    "    qc.ccx(q1[1],q2[1],qaux[2])\n",
    "    qc.mct([q1[0],q2[2],qaux[2],qaux[3]],qaux[4])\n",
    "    qc.mct([q1[0],q2[2],qaux[2]],qaux[3])\n",
    "    qc.ccx(q1[0],q2[2],qaux[2])\n",
    "\n",
    "    qc.mct([q1[1],q2[2],qaux[3]],qaux[4])\n",
    "    qc.mct([q1[1],q2[2]],qaux[3])\n",
    "    qc.mct([q1[2],q2[1],qaux[3],qaux[4]],qaux[5])\n",
    "    qc.mct([q1[2],q2[1],qaux[3]],qaux[4])\n",
    "    qc.mct([q1[2],q2[1]],qaux[3])\n",
    "    qc.mct([q1[0],q2[3],qaux[3],qaux[4]],qaux[5])\n",
    "    qc.mct([q1[0],q2[3],qaux[3]],qaux[4])\n",
    "    qc.mct([q1[0],q2[3]],qaux[3])\n",
    "    qc.mct([q1[3],q2[0],qaux[3],qaux[4]],qaux[5])\n",
    "    qc.mct([q1[3],q2[0],qaux[3]],qaux[4])\n",
    "    qc.mct([q1[3],q2[0]],qaux[3])\n",
    "\n",
    "    qc.mct([q1[3],q2[1],qaux[4],qaux[5]],qaux[6])\n",
    "    qc.mct([q1[3],q2[1],qaux[4]],qaux[5])\n",
    "    qc.mct([q1[3],q2[1]],qaux[4])\n",
    "    qc.mct([q1[2],q2[2],qaux[4],qaux[5]],qaux[6])\n",
    "    qc.mct([q1[2],q2[2],qaux[4]],qaux[5])\n",
    "    qc.mct([q1[2],q2[2]],qaux[4])\n",
    "    qc.mct([q1[1],q2[3],qaux[4],qaux[5]],qaux[6])\n",
    "    qc.mct([q1[1],q2[3],qaux[4]],qaux[5])\n",
    "    qc.mct([q1[1],q2[3]],qaux[4])\n",
    "\n",
    "    qc.mct([q1[2],q2[3],qaux[5],qaux[6]],qaux[7])\n",
    "    qc.mct([q1[2],q2[3],qaux[5]],qaux[6])\n",
    "    qc.mct([q1[2],q2[3]],qaux[5])\n",
    "    qc.mct([q1[3],q2[2],qaux[5],qaux[6]],qaux[7])\n",
    "    qc.mct([q1[3],q2[2],qaux[5]],qaux[6])\n",
    "    qc.mct([q1[3],q2[2]],qaux[5])\n",
    "\n",
    "    qc.mct([q1[3],q2[3],qaux[6]],qaux[7])\n",
    "    qc.mct([q1[3],q2[3]],qaux[6])\n",
    "    qc.measure(qaux,cr)\n",
    "    qc.draw(\"mpl\")\n",
    "    simulator = Aer.get_backend('aer_simulator')\n",
    "    job = execute(qc, simulator)\n",
    "    result = job.result()\n",
    "    counts = result.get_counts()\n",
    "    # plot_histogram(counts)\n",
    "    return int(list(counts.keys())[0],2)"
   ]
  },
  {
   "cell_type": "code",
   "execution_count": 6,
   "id": "3a65ed4e",
   "metadata": {},
   "outputs": [
    {
     "data": {
      "text/plain": [
       "225"
      ]
     },
     "execution_count": 6,
     "metadata": {},
     "output_type": "execute_result"
    }
   ],
   "source": [
    "multiplier(15,15)"
   ]
  },
  {
   "cell_type": "code",
   "execution_count": null,
   "id": "628a41e5",
   "metadata": {},
   "outputs": [],
   "source": []
  }
 ],
 "metadata": {
  "kernelspec": {
   "display_name": "Python 3 (ipykernel)",
   "language": "python",
   "name": "python3"
  },
  "language_info": {
   "codemirror_mode": {
    "name": "ipython",
    "version": 3
   },
   "file_extension": ".py",
   "mimetype": "text/x-python",
   "name": "python",
   "nbconvert_exporter": "python",
   "pygments_lexer": "ipython3",
   "version": "3.9.5"
  }
 },
 "nbformat": 4,
 "nbformat_minor": 5
}
