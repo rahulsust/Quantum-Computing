{
  "nbformat": 4,
  "nbformat_minor": 0,
  "metadata": {
    "colab": {
      "provenance": [],
      "collapsed_sections": [],
      "authorship_tag": "ABX9TyOit3CoBAsoZYEjxvQPugL2",
      "include_colab_link": true
    },
    "kernelspec": {
      "name": "python3",
      "display_name": "Python 3"
    },
    "language_info": {
      "name": "python"
    }
  },
  "cells": [
    {
      "cell_type": "markdown",
      "metadata": {
        "id": "view-in-github",
        "colab_type": "text"
      },
      "source": [
        "<a href=\"https://colab.research.google.com/github/rahulsust/quantumcomputing/blob/main/qiskit/quantumcomputing.ipynb\" target=\"_parent\"><img src=\"https://colab.research.google.com/assets/colab-badge.svg\" alt=\"Open In Colab\"/></a>"
      ]
    },
    {
      "cell_type": "code",
      "execution_count": null,
      "metadata": {
        "id": "A2Cko-RzEs9E"
      },
      "outputs": [],
      "source": [
        "from qiskit import QuantumCircuit, assemble, Aer\n",
        "from qiskit.visualization import plot_histogram"
      ]
    },
    {
      "cell_type": "code",
      "source": [
        "qc_output = QuantumCircuit(8)\n",
        "qc_output.x(7)\n",
        "qc_output.measure_all()\n",
        "qc_output.draw()"
      ],
      "metadata": {
        "colab": {
          "base_uri": "https://localhost:8080/",
          "height": 310
        },
        "id": "jcgl-a6nHtx0",
        "outputId": "45767740-c760-4d8a-8284-6e4bfce10b9b"
      },
      "execution_count": null,
      "outputs": [
        {
          "output_type": "execute_result",
          "data": {
            "text/plain": [
              "              ░ ┌─┐                     \n",
              "   q_0: ──────░─┤M├─────────────────────\n",
              "              ░ └╥┘┌─┐                  \n",
              "   q_1: ──────░──╫─┤M├──────────────────\n",
              "              ░  ║ └╥┘┌─┐               \n",
              "   q_2: ──────░──╫──╫─┤M├───────────────\n",
              "              ░  ║  ║ └╥┘┌─┐            \n",
              "   q_3: ──────░──╫──╫──╫─┤M├────────────\n",
              "              ░  ║  ║  ║ └╥┘┌─┐         \n",
              "   q_4: ──────░──╫──╫──╫──╫─┤M├─────────\n",
              "              ░  ║  ║  ║  ║ └╥┘┌─┐      \n",
              "   q_5: ──────░──╫──╫──╫──╫──╫─┤M├──────\n",
              "              ░  ║  ║  ║  ║  ║ └╥┘┌─┐   \n",
              "   q_6: ──────░──╫──╫──╫──╫──╫──╫─┤M├───\n",
              "        ┌───┐ ░  ║  ║  ║  ║  ║  ║ └╥┘┌─┐\n",
              "   q_7: ┤ X ├─░──╫──╫──╫──╫──╫──╫──╫─┤M├\n",
              "        └───┘ ░  ║  ║  ║  ║  ║  ║  ║ └╥┘\n",
              "meas: 8/═════════╩══╩══╩══╩══╩══╩══╩══╩═\n",
              "                 0  1  2  3  4  5  6  7 "
            ],
            "text/html": [
              "<pre style=\"word-wrap: normal;white-space: pre;background: #fff0;line-height: 1.1;font-family: &quot;Courier New&quot;,Courier,monospace\">              ░ ┌─┐                     \n",
              "   q_0: ──────░─┤M├─────────────────────\n",
              "              ░ └╥┘┌─┐                  \n",
              "   q_1: ──────░──╫─┤M├──────────────────\n",
              "              ░  ║ └╥┘┌─┐               \n",
              "   q_2: ──────░──╫──╫─┤M├───────────────\n",
              "              ░  ║  ║ └╥┘┌─┐            \n",
              "   q_3: ──────░──╫──╫──╫─┤M├────────────\n",
              "              ░  ║  ║  ║ └╥┘┌─┐         \n",
              "   q_4: ──────░──╫──╫──╫──╫─┤M├─────────\n",
              "              ░  ║  ║  ║  ║ └╥┘┌─┐      \n",
              "   q_5: ──────░──╫──╫──╫──╫──╫─┤M├──────\n",
              "              ░  ║  ║  ║  ║  ║ └╥┘┌─┐   \n",
              "   q_6: ──────░──╫──╫──╫──╫──╫──╫─┤M├───\n",
              "        ┌───┐ ░  ║  ║  ║  ║  ║  ║ └╥┘┌─┐\n",
              "   q_7: ┤ X ├─░──╫──╫──╫──╫──╫──╫──╫─┤M├\n",
              "        └───┘ ░  ║  ║  ║  ║  ║  ║  ║ └╥┘\n",
              "meas: 8/═════════╩══╩══╩══╩══╩══╩══╩══╩═\n",
              "                 0  1  2  3  4  5  6  7 </pre>"
            ]
          },
          "metadata": {},
          "execution_count": 18
        }
      ]
    },
    {
      "cell_type": "code",
      "source": [
        "sim = Aer.get_backend('aer_simulator') \n",
        "result = sim.run(qc_output).result()\n",
        "counts = result.get_counts()\n",
        "plot_histogram(counts)"
      ],
      "metadata": {
        "colab": {
          "base_uri": "https://localhost:8080/",
          "height": 380
        },
        "id": "F-EhxqOdKpWh",
        "outputId": "13a33901-a980-47cf-d911-08a10580e7ed"
      },
      "execution_count": null,
      "outputs": [
        {
          "output_type": "execute_result",
          "data": {
            "text/plain": [
              "<Figure size 504x360 with 1 Axes>"
            ],
            "image/png": "[encoded data removed]"
          },
          "metadata": {},
          "execution_count": 21
        }
      ]
    },
    {
      "cell_type": "code",
      "source": [
        "qc_output.draw()"
      ],
      "metadata": {
        "colab": {
          "base_uri": "https://localhost:8080/",
          "height": 356
        },
        "id": "1k9p902MMVOR",
        "outputId": "647e3e36-f707-42ce-c584-840414008c9b"
      },
      "execution_count": null,
      "outputs": [
        {
          "output_type": "execute_result",
          "data": {
            "text/plain": [
              "          ░ ┌─┐                      ░ ┌─┐                     \n",
              "    q_0: ─░─┤M├──────────────────────░─┤M├─────────────────────\n",
              "          ░ └╥┘┌─┐                   ░ └╥┘┌─┐                  \n",
              "    q_1: ─░──╫─┤M├───────────────────░──╫─┤M├──────────────────\n",
              "          ░  ║ └╥┘┌─┐                ░  ║ └╥┘┌─┐               \n",
              "    q_2: ─░──╫──╫─┤M├────────────────░──╫──╫─┤M├───────────────\n",
              "          ░  ║  ║ └╥┘┌─┐             ░  ║  ║ └╥┘┌─┐            \n",
              "    q_3: ─░──╫──╫──╫─┤M├─────────────░──╫──╫──╫─┤M├────────────\n",
              "          ░  ║  ║  ║ └╥┘┌─┐          ░  ║  ║  ║ └╥┘┌─┐         \n",
              "    q_4: ─░──╫──╫──╫──╫─┤M├──────────░──╫──╫──╫──╫─┤M├─────────\n",
              "          ░  ║  ║  ║  ║ └╥┘┌─┐       ░  ║  ║  ║  ║ └╥┘┌─┐      \n",
              "    q_5: ─░──╫──╫──╫──╫──╫─┤M├───────░──╫──╫──╫──╫──╫─┤M├──────\n",
              "          ░  ║  ║  ║  ║  ║ └╥┘┌─┐    ░  ║  ║  ║  ║  ║ └╥┘┌─┐   \n",
              "    q_6: ─░──╫──╫──╫──╫──╫──╫─┤M├────░──╫──╫──╫──╫──╫──╫─┤M├───\n",
              "          ░  ║  ║  ║  ║  ║  ║ └╥┘┌─┐ ░  ║  ║  ║  ║  ║  ║ └╥┘┌─┐\n",
              "    q_7: ─░──╫──╫──╫──╫──╫──╫──╫─┤M├─░──╫──╫──╫──╫──╫──╫──╫─┤M├\n",
              "          ░  ║  ║  ║  ║  ║  ║  ║ └╥┘ ░  ║  ║  ║  ║  ║  ║  ║ └╥┘\n",
              " meas: 8/════╩══╩══╩══╩══╩══╩══╩══╩═════╬══╬══╬══╬══╬══╬══╬══╬═\n",
              "             0  1  2  3  4  5  6  7     ║  ║  ║  ║  ║  ║  ║  ║ \n",
              "                                        ║  ║  ║  ║  ║  ║  ║  ║ \n",
              "meas0: 8/═══════════════════════════════╩══╩══╩══╩══╩══╩══╩══╩═\n",
              "                                        0  1  2  3  4  5  6  7 "
            ],
            "text/html": [
              "<pre style=\"word-wrap: normal;white-space: pre;background: #fff0;line-height: 1.1;font-family: &quot;Courier New&quot;,Courier,monospace\">          ░ ┌─┐                      ░ ┌─┐                     \n",
              "    q_0: ─░─┤M├──────────────────────░─┤M├─────────────────────\n",
              "          ░ └╥┘┌─┐                   ░ └╥┘┌─┐                  \n",
              "    q_1: ─░──╫─┤M├───────────────────░──╫─┤M├──────────────────\n",
              "          ░  ║ └╥┘┌─┐                ░  ║ └╥┘┌─┐               \n",
              "    q_2: ─░──╫──╫─┤M├────────────────░──╫──╫─┤M├───────────────\n",
              "          ░  ║  ║ └╥┘┌─┐             ░  ║  ║ └╥┘┌─┐            \n",
              "    q_3: ─░──╫──╫──╫─┤M├─────────────░──╫──╫──╫─┤M├────────────\n",
              "          ░  ║  ║  ║ └╥┘┌─┐          ░  ║  ║  ║ └╥┘┌─┐         \n",
              "    q_4: ─░──╫──╫──╫──╫─┤M├──────────░──╫──╫──╫──╫─┤M├─────────\n",
              "          ░  ║  ║  ║  ║ └╥┘┌─┐       ░  ║  ║  ║  ║ └╥┘┌─┐      \n",
              "    q_5: ─░──╫──╫──╫──╫──╫─┤M├───────░──╫──╫──╫──╫──╫─┤M├──────\n",
              "          ░  ║  ║  ║  ║  ║ └╥┘┌─┐    ░  ║  ║  ║  ║  ║ └╥┘┌─┐   \n",
              "    q_6: ─░──╫──╫──╫──╫──╫──╫─┤M├────░──╫──╫──╫──╫──╫──╫─┤M├───\n",
              "          ░  ║  ║  ║  ║  ║  ║ └╥┘┌─┐ ░  ║  ║  ║  ║  ║  ║ └╥┘┌─┐\n",
              "    q_7: ─░──╫──╫──╫──╫──╫──╫──╫─┤M├─░──╫──╫──╫──╫──╫──╫──╫─┤M├\n",
              "          ░  ║  ║  ║  ║  ║  ║  ║ └╥┘ ░  ║  ║  ║  ║  ║  ║  ║ └╥┘\n",
              " meas: 8/════╩══╩══╩══╩══╩══╩══╩══╩═════╬══╬══╬══╬══╬══╬══╬══╬═\n",
              "             0  1  2  3  4  5  6  7     ║  ║  ║  ║  ║  ║  ║  ║ \n",
              "                                        ║  ║  ║  ║  ║  ║  ║  ║ \n",
              "meas0: 8/═══════════════════════════════╩══╩══╩══╩══╩══╩══╩══╩═\n",
              "                                        0  1  2  3  4  5  6  7 </pre>"
            ]
          },
          "metadata": {},
          "execution_count": 14
        }
      ]
    },
    {
      "cell_type": "code",
      "source": [
        "sim = Aer.get_backend('aer_simulator') \n",
        "result = sim.run(qc_output).result()\n",
        "counts = result.get_counts()\n",
        "plot_histogram(counts)"
      ],
      "metadata": {
        "colab": {
          "base_uri": "https://localhost:8080/",
          "height": 450
        },
        "id": "4RKbzpP5NNBY",
        "outputId": "011a1058-0d6d-49c3-e675-2d10bd56deaa"
      },
      "execution_count": null,
      "outputs": [
        {
          "output_type": "execute_result",
          "data": {
            "text/plain": [
              "<Figure size 504x360 with 1 Axes>"
            ],
            "image/png": "[encoded data removed]"
          },
          "metadata": {},
          "execution_count": 15
        }
      ]
    }
  ]
}