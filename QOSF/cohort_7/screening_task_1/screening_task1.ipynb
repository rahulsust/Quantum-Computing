{
 "cells": [
  {
   "cell_type": "markdown",
   "id": "6e63a89f-0d89-4a9a-8cf1-939a665af843",
   "metadata": {},
   "source": [
    "Run the cell below to import all necessary libraries."
   ]
  },
  {
   "cell_type": "code",
   "execution_count": 202,
   "id": "8070e8fe-8cac-4ba3-bd27-bc28763a4577",
   "metadata": {},
   "outputs": [
    {
     "name": "stdout",
     "output_type": "stream",
     "text": [
      "Libraries imported successfully\n"
     ]
    }
   ],
   "source": [
    "import math\n",
    "import numpy as np\n",
    "import matplotlib.pyplot as plt\n",
    "from qiskit import IBMQ,QuantumCircuit, Aer, transpile, execute\n",
    "from qiskit.visualization import plot_histogram\n",
    "from qiskit_aer import AerSimulator\n",
    "from qiskit.compiler import transpile\n",
    "from qiskit.providers.ibmq import least_busy\n",
    "import warnings\n",
    "warnings.filterwarnings(\"ignore\")\n",
    "print(\"Libraries imported successfully\")"
   ]
  },
  {
   "cell_type": "code",
   "execution_count": 203,
   "id": "5a00a3a7-dee9-4bbf-a9d4-3c1ae36a3160",
   "metadata": {},
   "outputs": [],
   "source": [
    "def find_the_largest_number(number_1,number_2):\n",
    "    \n",
    "     \"\"\"\n",
    "     number_1 : integer value that is the first parameter to the function,\n",
    "     number_2 : integer value that is the second parameter to the function.\n",
    "     Return the largest number between number_1 and number_2\n",
    "     \"\"\"\n",
    "     # absolute value of the integers\n",
    "     e,f=abs(number_1),abs(number_2)\n",
    "     # use a framework that works with quantum circuits, qiskit, cirq, pennylane, etc.\n",
    "     # consider print your quantum circuit\n",
    "     # Here I converted the integers to binary string.\n",
    "     a=bin(e)[2:]\n",
    "     b=bin(f)[2:]\n",
    "        \n",
    "     # Here I calculated the length of the largest binary number recursively\n",
    "     # elif clause below checks if there is a string of.length 2 and not 2 and the  combination (2,1),(1,2) to avoid recursion overflow\n",
    "     c,d=len(a),len(b)\n",
    "     if c==d:\n",
    "         n=c\n",
    "     elif (int(c==2)+int(d==2))%2==1 and c+d==3:\n",
    "         n=2\n",
    "     else:\n",
    "         n,_=find_the_largest_number(c,d)\n",
    "        \n",
    "#      n=max(c,d)\n",
    "     # Here I make the two binary string of same size.\n",
    "     a=a.zfill(n)\n",
    "        \n",
    "     b=b.zfill(n)\n",
    "    \n",
    "     # The function UC(qc,l) below does the bitwise comparison. If the first numer is bigger, the state of 2nd and 3rd\n",
    "     #  qubit will be |10>, if second number is bigger the state will be |01> and if same it will be |00>.\n",
    "     def UC(qc,l):\n",
    "          qc.x(5*l+1)\n",
    "          qc.ccx(5*l,5*l+1,5*l+2)\n",
    "          qc.x([5*l,5*l+1])\n",
    "          qc.ccx(5*l,5*l+1,5*l+3)\n",
    "          qc.x(5*l)\n",
    "    \n",
    "     # The function U(qc,a,b) is just the generalization of the previous bitwise comparator circuit. Here the output\n",
    "     #  will be the result to The two n bit binary string comparison.\n",
    "     def U(qc,n,a,b):\n",
    "          for i in range(n):\n",
    "               if a[i]==\"1\":\n",
    "                    qc.x(5*i)\n",
    "               if b[i]==\"1\":\n",
    "                    qc.x(5*i+1)\n",
    "               UC(qc,i)\n",
    "          for j in range(n-1,0,-1):\n",
    "               qc.x([5*j-3,5*j-2])\n",
    "               qc.ccx(5*j-3,5*j-2,5*j-1)\n",
    "               qc.x([5*j-3,5*j-2])\n",
    "               qc.ccx(5*j+2,5*j-1,5*j-3)\n",
    "               qc.ccx(5*j+3,5*j-1,5*j-2)\n",
    "\n",
    "     # Here I created a 6*n qubit resister and n classical resister. \n",
    "     qc=QuantumCircuit(6*n+2,n)\n",
    "        \n",
    "     # Here I prepared the initial search space.\n",
    "     qc.h(range(6*n-2,6*n-2-n,-1))\n",
    "        \n",
    "     # This is a auxiliary qubit to use for phase kickback initialized to |->.\n",
    "     qc.h(6*n-1)\n",
    "     qc.z(6*n-1)\n",
    "    \n",
    "     # Here U does the classical calculation of the comparator oracle.\n",
    "     U(qc,n,a,b)\n",
    "     \n",
    "     # Manipulate the sign of integers\n",
    "     qc.cx(2,6*n)\n",
    "     qc.cx(3,6*n)\n",
    "     qc.cx(2,6*n+1)\n",
    "     if number_1<0 and number_2<0:\n",
    "          qc.cx(6*n,2)\n",
    "          qc.cx(6*n,3)\n",
    "     elif number_1>=0 and number_2>=0:\n",
    "          pass\n",
    "     else:\n",
    "          if number_1<0:\n",
    "              qc.cx(6*n+1,2)\n",
    "              qc.cx(6*n+1,3)\n",
    "          else:\n",
    "              qc.x(6*n+1)\n",
    "              qc.cx(6*n+1,2)\n",
    "              qc.cx(6*n+1,3)\n",
    "              qc.x(6*n+1)\n",
    "     \n",
    "     # Here the loop runs for square root of n times for optimal result.\n",
    "     for _ in range(math.isqrt(n)):\n",
    "\n",
    "          # This indented part is the phase oracle of grovers search.  \n",
    "          if True:\n",
    "              qc.h(6*n-1)\n",
    "              for i in range(n):\n",
    "                   if a[i]==\"0\":\n",
    "                        qc.x(5*n-1+i)\n",
    "              qc.mct([2]+list(range(6*n-2,6*n-2-n,-1)),6*n-1)\n",
    "              for i in range(n):\n",
    "                   if a[i]==\"0\":\n",
    "                        qc.x(5*n-1+i)\n",
    "              qc.h(6*n-1)\n",
    "              qc.h(6*n-1)\n",
    "              for j in range(n):\n",
    "                   if b[j]==\"0\":\n",
    "                        qc.x(5*n-1+j)\n",
    "              qc.mct([3]+list(range(6*n-2,6*n-2-n,-1)),6*n-1)\n",
    "              for j in range(n):\n",
    "                   if b[j]==\"0\":\n",
    "                        qc.x(5*n-1+j)\n",
    "              qc.h(6*n-1)\n",
    "\n",
    "          # Here indented part is the diffuser operator\n",
    "          if True:\n",
    "              qc.h(range(6*n-2,6*n-2-n,-1))\n",
    "              if n==1:\n",
    "                   qc.z(6*n-2)\n",
    "              else:\n",
    "                   qc.x(range(6*n-2,6*n-2-n,-1))\n",
    "                   qc.h(6*n-2)\n",
    "                   qc.mct(list(range(6*n-3,6*n-2-n,-1)),6*n-2)\n",
    "                   qc.h(6*n-2)\n",
    "                   qc.x(range(6*n-2,6*n-2-n,-1))\n",
    "              qc.h(range(6*n-2,6*n-2-n,-1))\n",
    "     \n",
    "     # Here I output the result of the solution states to the classical resiters.\n",
    "     qc.measure(range(6*n-2,6*n-2-n,-1),range(n))\n",
    "    \n",
    "     # Here I print the circuit.\n",
    "     #print(qc)\n",
    "     # Here I used aer simulator.\n",
    "     sim=AerSimulator(method='automatic')\n",
    "    \n",
    "     # Here I traspiled my quantum circuit to make it compatible \n",
    "     # (Convert my gates to equivalent ones that the simulator supports) for my simulator.\n",
    "     # Then I run(sample) the circuit using the simulator and returned the counts of each possible states.\n",
    "    \n",
    "     result=sim.run(transpile(qc,sim)).result().get_counts()\n",
    "     # print(result)\n",
    "     # Then I print the bigger number.\n",
    "     try:\n",
    "         # here if there is more than or less than 1 number greater than probability 200 it returns number_1 as the ans.\n",
    "         q=(a for a,i in result.items() if i>200)\n",
    "         p=int(next(q),2)\n",
    "         # This part is to adjust with negative numbers.\n",
    "         p=number_1*(p==e)+number_2*(p==f)\n",
    "         next(q)\n",
    "         if number_1==0 and number_2>=0:\n",
    "             p=number_2\n",
    "         elif number_2==0 and number_1>=0:\n",
    "             p=number_1\n",
    "     except:\n",
    "         try:\n",
    "             p\n",
    "         except:\n",
    "             p=number_1\n",
    "     #print(\"The bigger number is\",p)\n",
    "     return (p,qc)\n",
    "     "
   ]
  },
  {
   "cell_type": "code",
   "execution_count": 204,
   "id": "7890c014-1a68-4490-bb2b-30b478f20dcc",
   "metadata": {},
   "outputs": [
    {
     "data": {
      "text/plain": [
       "15"
      ]
     },
     "execution_count": 204,
     "metadata": {},
     "output_type": "execute_result"
    }
   ],
   "source": [
    "result,qc=find_the_largest_number(15,6)\n",
    "result"
   ]
  },
  {
   "cell_type": "code",
   "execution_count": 205,
   "id": "1b56480b-5f74-46c1-bd17-ab45f03256cf",
   "metadata": {},
   "outputs": [
    {
     "name": "stdout",
     "output_type": "stream",
     "text": [
      "(num_1,num_2) ( -15 -15 ) (qu_max,cl_max) ( -15 -15 ) True\n",
      "(num_1,num_2) ( -15 -14 ) (qu_max,cl_max) ( -14 -14 ) True\n",
      "(num_1,num_2) ( -15 -13 ) (qu_max,cl_max) ( -13 -13 ) True\n",
      "(num_1,num_2) ( -15 -12 ) (qu_max,cl_max) ( -12 -12 ) True\n",
      "(num_1,num_2) ( -15 -11 ) (qu_max,cl_max) ( -11 -11 ) True\n",
      "(num_1,num_2) ( -15 -10 ) (qu_max,cl_max) ( -10 -10 ) True\n",
      "(num_1,num_2) ( -15 -9 ) (qu_max,cl_max) ( -9 -9 ) True\n",
      "(num_1,num_2) ( -15 -8 ) (qu_max,cl_max) ( -8 -8 ) True\n",
      "(num_1,num_2) ( -15 -7 ) (qu_max,cl_max) ( -7 -7 ) True\n"
     ]
    },
    {
     "ename": "KeyboardInterrupt",
     "evalue": "",
     "output_type": "error",
     "traceback": [
      "\u001b[0;31m---------------------------------------------------------------------------\u001b[0m",
      "\u001b[0;31mKeyboardInterrupt\u001b[0m                         Traceback (most recent call last)",
      "Input \u001b[0;32mIn [205]\u001b[0m, in \u001b[0;36m<cell line: 1>\u001b[0;34m()\u001b[0m\n\u001b[1;32m      1\u001b[0m \u001b[38;5;28;01mfor\u001b[39;00m i \u001b[38;5;129;01min\u001b[39;00m \u001b[38;5;28mrange\u001b[39m(\u001b[38;5;241m-\u001b[39m\u001b[38;5;241m15\u001b[39m,\u001b[38;5;241m16\u001b[39m):\n\u001b[1;32m      2\u001b[0m     \u001b[38;5;28;01mfor\u001b[39;00m j \u001b[38;5;129;01min\u001b[39;00m \u001b[38;5;28mrange\u001b[39m(\u001b[38;5;241m-\u001b[39m\u001b[38;5;241m15\u001b[39m,\u001b[38;5;241m16\u001b[39m):\n\u001b[0;32m----> 3\u001b[0m         result,qc\u001b[38;5;241m=\u001b[39m\u001b[43mfind_the_largest_number\u001b[49m\u001b[43m(\u001b[49m\u001b[43mi\u001b[49m\u001b[43m,\u001b[49m\u001b[43mj\u001b[49m\u001b[43m)\u001b[49m\n\u001b[1;32m      4\u001b[0m         \u001b[38;5;28mprint\u001b[39m(\u001b[38;5;124m\"\u001b[39m\u001b[38;5;124m(num_1,num_2) (\u001b[39m\u001b[38;5;124m\"\u001b[39m,i,j,\u001b[38;5;124m\"\u001b[39m\u001b[38;5;124m) (qu_max,cl_max) (\u001b[39m\u001b[38;5;124m\"\u001b[39m,result,\u001b[38;5;28mmax\u001b[39m(i,j),\u001b[38;5;124m\"\u001b[39m\u001b[38;5;124m)\u001b[39m\u001b[38;5;124m\"\u001b[39m,result\u001b[38;5;241m==\u001b[39m\u001b[38;5;28mmax\u001b[39m(i,j))\n",
      "Input \u001b[0;32mIn [203]\u001b[0m, in \u001b[0;36mfind_the_largest_number\u001b[0;34m(number_1, number_2)\u001b[0m\n\u001b[1;32m    132\u001b[0m sim\u001b[38;5;241m=\u001b[39mAerSimulator(method\u001b[38;5;241m=\u001b[39m\u001b[38;5;124m'\u001b[39m\u001b[38;5;124mautomatic\u001b[39m\u001b[38;5;124m'\u001b[39m)\n\u001b[1;32m    134\u001b[0m \u001b[38;5;66;03m# Here I traspiled my quantum circuit to make it compatible \u001b[39;00m\n\u001b[1;32m    135\u001b[0m \u001b[38;5;66;03m# (Convert my gates to equivalent ones that the simulator supports) for my simulator.\u001b[39;00m\n\u001b[1;32m    136\u001b[0m \u001b[38;5;66;03m# Then I run(sample) the circuit using the simulator and returned the counts of each possible states.\u001b[39;00m\n\u001b[0;32m--> 138\u001b[0m result\u001b[38;5;241m=\u001b[39m\u001b[43msim\u001b[49m\u001b[38;5;241;43m.\u001b[39;49m\u001b[43mrun\u001b[49m\u001b[43m(\u001b[49m\u001b[43mtranspile\u001b[49m\u001b[43m(\u001b[49m\u001b[43mqc\u001b[49m\u001b[43m,\u001b[49m\u001b[43msim\u001b[49m\u001b[43m)\u001b[49m\u001b[43m)\u001b[49m\u001b[38;5;241;43m.\u001b[39;49m\u001b[43mresult\u001b[49m\u001b[43m(\u001b[49m\u001b[43m)\u001b[49m\u001b[38;5;241m.\u001b[39mget_counts()\n\u001b[1;32m    139\u001b[0m \u001b[38;5;66;03m# print(result)\u001b[39;00m\n\u001b[1;32m    140\u001b[0m \u001b[38;5;66;03m# Then I print the bigger number.\u001b[39;00m\n\u001b[1;32m    141\u001b[0m \u001b[38;5;28;01mtry\u001b[39;00m:\n\u001b[1;32m    142\u001b[0m     \u001b[38;5;66;03m# here if there is more than or less than 1 number greater than probability 200 it returns number_1 as the ans.\u001b[39;00m\n",
      "File \u001b[0;32m/opt/conda/lib/python3.8/site-packages/qiskit_aer/jobs/utils.py:41\u001b[0m, in \u001b[0;36mrequires_submit.<locals>._wrapper\u001b[0;34m(self, *args, **kwargs)\u001b[0m\n\u001b[1;32m     39\u001b[0m \u001b[38;5;28;01mif\u001b[39;00m \u001b[38;5;28mself\u001b[39m\u001b[38;5;241m.\u001b[39m_future \u001b[38;5;129;01mis\u001b[39;00m \u001b[38;5;28;01mNone\u001b[39;00m:\n\u001b[1;32m     40\u001b[0m     \u001b[38;5;28;01mraise\u001b[39;00m JobError(\u001b[38;5;124m\"\u001b[39m\u001b[38;5;124mJob not submitted yet!. You have to .submit() first!\u001b[39m\u001b[38;5;124m\"\u001b[39m)\n\u001b[0;32m---> 41\u001b[0m \u001b[38;5;28;01mreturn\u001b[39;00m \u001b[43mfunc\u001b[49m\u001b[43m(\u001b[49m\u001b[38;5;28;43mself\u001b[39;49m\u001b[43m,\u001b[49m\u001b[43m \u001b[49m\u001b[38;5;241;43m*\u001b[39;49m\u001b[43margs\u001b[49m\u001b[43m,\u001b[49m\u001b[43m \u001b[49m\u001b[38;5;241;43m*\u001b[39;49m\u001b[38;5;241;43m*\u001b[39;49m\u001b[43mkwargs\u001b[49m\u001b[43m)\u001b[49m\n",
      "File \u001b[0;32m/opt/conda/lib/python3.8/site-packages/qiskit_aer/jobs/aerjob.py:78\u001b[0m, in \u001b[0;36mAerJob.result\u001b[0;34m(self, timeout)\u001b[0m\n\u001b[1;32m     60\u001b[0m \u001b[38;5;129m@requires_submit\u001b[39m\n\u001b[1;32m     61\u001b[0m \u001b[38;5;28;01mdef\u001b[39;00m \u001b[38;5;21mresult\u001b[39m(\u001b[38;5;28mself\u001b[39m, timeout\u001b[38;5;241m=\u001b[39m\u001b[38;5;28;01mNone\u001b[39;00m):\n\u001b[1;32m     62\u001b[0m     \u001b[38;5;66;03m# pylint: disable=arguments-differ\u001b[39;00m\n\u001b[1;32m     63\u001b[0m     \u001b[38;5;124;03m\"\"\"Get job result. The behavior is the same as the underlying\u001b[39;00m\n\u001b[1;32m     64\u001b[0m \u001b[38;5;124;03m    concurrent Future objects,\u001b[39;00m\n\u001b[1;32m     65\u001b[0m \n\u001b[0;32m   (...)\u001b[0m\n\u001b[1;32m     76\u001b[0m \u001b[38;5;124;03m        concurrent.futures.CancelledError: if job cancelled before completed.\u001b[39;00m\n\u001b[1;32m     77\u001b[0m \u001b[38;5;124;03m    \"\"\"\u001b[39;00m\n\u001b[0;32m---> 78\u001b[0m     \u001b[38;5;28;01mreturn\u001b[39;00m \u001b[38;5;28;43mself\u001b[39;49m\u001b[38;5;241;43m.\u001b[39;49m\u001b[43m_future\u001b[49m\u001b[38;5;241;43m.\u001b[39;49m\u001b[43mresult\u001b[49m\u001b[43m(\u001b[49m\u001b[43mtimeout\u001b[49m\u001b[38;5;241;43m=\u001b[39;49m\u001b[43mtimeout\u001b[49m\u001b[43m)\u001b[49m\n",
      "File \u001b[0;32m/opt/conda/lib/python3.8/concurrent/futures/_base.py:439\u001b[0m, in \u001b[0;36mFuture.result\u001b[0;34m(self, timeout)\u001b[0m\n\u001b[1;32m    436\u001b[0m \u001b[38;5;28;01melif\u001b[39;00m \u001b[38;5;28mself\u001b[39m\u001b[38;5;241m.\u001b[39m_state \u001b[38;5;241m==\u001b[39m FINISHED:\n\u001b[1;32m    437\u001b[0m     \u001b[38;5;28;01mreturn\u001b[39;00m \u001b[38;5;28mself\u001b[39m\u001b[38;5;241m.\u001b[39m__get_result()\n\u001b[0;32m--> 439\u001b[0m \u001b[38;5;28;43mself\u001b[39;49m\u001b[38;5;241;43m.\u001b[39;49m\u001b[43m_condition\u001b[49m\u001b[38;5;241;43m.\u001b[39;49m\u001b[43mwait\u001b[49m\u001b[43m(\u001b[49m\u001b[43mtimeout\u001b[49m\u001b[43m)\u001b[49m\n\u001b[1;32m    441\u001b[0m \u001b[38;5;28;01mif\u001b[39;00m \u001b[38;5;28mself\u001b[39m\u001b[38;5;241m.\u001b[39m_state \u001b[38;5;129;01min\u001b[39;00m [CANCELLED, CANCELLED_AND_NOTIFIED]:\n\u001b[1;32m    442\u001b[0m     \u001b[38;5;28;01mraise\u001b[39;00m CancelledError()\n",
      "File \u001b[0;32m/opt/conda/lib/python3.8/threading.py:302\u001b[0m, in \u001b[0;36mCondition.wait\u001b[0;34m(self, timeout)\u001b[0m\n\u001b[1;32m    300\u001b[0m \u001b[38;5;28;01mtry\u001b[39;00m:    \u001b[38;5;66;03m# restore state no matter what (e.g., KeyboardInterrupt)\u001b[39;00m\n\u001b[1;32m    301\u001b[0m     \u001b[38;5;28;01mif\u001b[39;00m timeout \u001b[38;5;129;01mis\u001b[39;00m \u001b[38;5;28;01mNone\u001b[39;00m:\n\u001b[0;32m--> 302\u001b[0m         \u001b[43mwaiter\u001b[49m\u001b[38;5;241;43m.\u001b[39;49m\u001b[43macquire\u001b[49m\u001b[43m(\u001b[49m\u001b[43m)\u001b[49m\n\u001b[1;32m    303\u001b[0m         gotit \u001b[38;5;241m=\u001b[39m \u001b[38;5;28;01mTrue\u001b[39;00m\n\u001b[1;32m    304\u001b[0m     \u001b[38;5;28;01melse\u001b[39;00m:\n",
      "\u001b[0;31mKeyboardInterrupt\u001b[0m: "
     ]
    }
   ],
   "source": [
    "for i in range(-15,16):\n",
    "    for j in range(-15,16):\n",
    "        result,qc=find_the_largest_number(i,j)\n",
    "        print(\"(num_1,num_2) (\",i,j,\") (qu_max,cl_max) (\",result,max(i,j),\")\",result==max(i,j))"
   ]
  },
  {
   "cell_type": "code",
   "execution_count": null,
   "id": "4fedebb0-26fe-44a4-a4d5-a1698ce9e4b2",
   "metadata": {},
   "outputs": [],
   "source": [
    "qc.draw(output=\"mpl\")"
   ]
  },
  {
   "cell_type": "code",
   "execution_count": null,
   "id": "485589c3-a9a5-443f-a8b3-f631ca758469",
   "metadata": {},
   "outputs": [],
   "source": []
  }
 ],
 "metadata": {
  "kernelspec": {
   "display_name": "Python 3 (ipykernel)",
   "language": "python",
   "name": "python3"
  },
  "language_info": {
   "codemirror_mode": {
    "name": "ipython",
    "version": 3
   },
   "file_extension": ".py",
   "mimetype": "text/x-python",
   "name": "python",
   "nbconvert_exporter": "python",
   "pygments_lexer": "ipython3",
   "version": "3.8.15"
  },
  "widgets": {
   "application/vnd.jupyter.widget-state+json": {
    "state": {},
    "version_major": 2,
    "version_minor": 0
   }
  }
 },
 "nbformat": 4,
 "nbformat_minor": 5
}
